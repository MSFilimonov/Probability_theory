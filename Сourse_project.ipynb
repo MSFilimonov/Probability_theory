{
 "cells": [
  {
   "cell_type": "markdown",
   "id": "e22db7a2",
   "metadata": {},
   "source": [
    "# Курсовой проект по курсу \"Теория вероятностей и математическая статистика\""
   ]
  },
  {
   "cell_type": "code",
   "execution_count": 256,
   "id": "b014ae88",
   "metadata": {},
   "outputs": [],
   "source": [
    "import warnings\n",
    "\n",
    "warnings.filterwarnings('ignore')\n",
    "import numpy as np\n",
    "import pandas as pd\n",
    "from sklearn.datasets import load_boston\n",
    "import matplotlib.pyplot as plt\n",
    "import seaborn as sns\n",
    "from scipy.stats import shapiro\n",
    "from scipy.stats import probplot\n",
    "from sklearn.metrics import r2_score as r2\n",
    "from sklearn.model_selection import train_test_split\n",
    "from sklearn.linear_model import LinearRegression\n",
    "import seaborn as sns\n",
    "%matplotlib inline\n",
    "import re\n"
   ]
  },
  {
   "cell_type": "code",
   "execution_count": 257,
   "id": "090b7af5",
   "metadata": {},
   "outputs": [],
   "source": [
    "data = pd.read_csv('topSubscribed.csv')"
   ]
  },
  {
   "cell_type": "code",
   "execution_count": 258,
   "id": "5f2ac1cd",
   "metadata": {},
   "outputs": [
    {
     "name": "stdout",
     "output_type": "stream",
     "text": [
      "<class 'pandas.core.frame.DataFrame'>\n",
      "RangeIndex: 1000 entries, 0 to 999\n",
      "Data columns (total 7 columns):\n",
      " #   Column           Non-Null Count  Dtype \n",
      "---  ------           --------------  ----- \n",
      " 0   Rank             1000 non-null   int64 \n",
      " 1   Youtube Channel  1000 non-null   object\n",
      " 2   Subscribers      1000 non-null   object\n",
      " 3   Video Views      1000 non-null   object\n",
      " 4   Video Count      1000 non-null   object\n",
      " 5   Category         1000 non-null   object\n",
      " 6   Started          1000 non-null   int64 \n",
      "dtypes: int64(2), object(5)\n",
      "memory usage: 54.8+ KB\n"
     ]
    }
   ],
   "source": [
    "data.info()"
   ]
  },
  {
   "cell_type": "code",
   "execution_count": 259,
   "id": "b2f0ef8c",
   "metadata": {},
   "outputs": [
    {
     "data": {
      "text/html": [
       "<div>\n",
       "<style scoped>\n",
       "    .dataframe tbody tr th:only-of-type {\n",
       "        vertical-align: middle;\n",
       "    }\n",
       "\n",
       "    .dataframe tbody tr th {\n",
       "        vertical-align: top;\n",
       "    }\n",
       "\n",
       "    .dataframe thead th {\n",
       "        text-align: right;\n",
       "    }\n",
       "</style>\n",
       "<table border=\"1\" class=\"dataframe\">\n",
       "  <thead>\n",
       "    <tr style=\"text-align: right;\">\n",
       "      <th></th>\n",
       "      <th>Rank</th>\n",
       "      <th>Youtube Channel</th>\n",
       "      <th>Subscribers</th>\n",
       "      <th>Video Views</th>\n",
       "      <th>Video Count</th>\n",
       "      <th>Category</th>\n",
       "      <th>Started</th>\n",
       "    </tr>\n",
       "  </thead>\n",
       "  <tbody>\n",
       "    <tr>\n",
       "      <th>0</th>\n",
       "      <td>1</td>\n",
       "      <td>T-Series</td>\n",
       "      <td>234,000,000</td>\n",
       "      <td>212,900,271,553</td>\n",
       "      <td>18,515</td>\n",
       "      <td>Music</td>\n",
       "      <td>2006</td>\n",
       "    </tr>\n",
       "    <tr>\n",
       "      <th>1</th>\n",
       "      <td>2</td>\n",
       "      <td>YouTube Movies</td>\n",
       "      <td>161,000,000</td>\n",
       "      <td>0</td>\n",
       "      <td>0</td>\n",
       "      <td>Film &amp; Animation</td>\n",
       "      <td>2015</td>\n",
       "    </tr>\n",
       "    <tr>\n",
       "      <th>2</th>\n",
       "      <td>3</td>\n",
       "      <td>Cocomelon - Nursery Rhymes</td>\n",
       "      <td>152,000,000</td>\n",
       "      <td>149,084,178,448</td>\n",
       "      <td>846</td>\n",
       "      <td>Education</td>\n",
       "      <td>2006</td>\n",
       "    </tr>\n",
       "    <tr>\n",
       "      <th>3</th>\n",
       "      <td>4</td>\n",
       "      <td>SET India</td>\n",
       "      <td>150,000,000</td>\n",
       "      <td>137,828,094,104</td>\n",
       "      <td>103,200</td>\n",
       "      <td>Shows</td>\n",
       "      <td>2006</td>\n",
       "    </tr>\n",
       "    <tr>\n",
       "      <th>4</th>\n",
       "      <td>5</td>\n",
       "      <td>MrBeast</td>\n",
       "      <td>128,000,000</td>\n",
       "      <td>21,549,128,785</td>\n",
       "      <td>733</td>\n",
       "      <td>Entertainment</td>\n",
       "      <td>2012</td>\n",
       "    </tr>\n",
       "  </tbody>\n",
       "</table>\n",
       "</div>"
      ],
      "text/plain": [
       "   Rank             Youtube Channel  Subscribers      Video Views Video Count  \\\n",
       "0     1                    T-Series  234,000,000  212,900,271,553      18,515   \n",
       "1     2              YouTube Movies  161,000,000                0           0   \n",
       "2     3  Cocomelon - Nursery Rhymes  152,000,000  149,084,178,448         846   \n",
       "3     4                   SET India  150,000,000  137,828,094,104     103,200   \n",
       "4     5                     MrBeast  128,000,000   21,549,128,785         733   \n",
       "\n",
       "           Category  Started  \n",
       "0             Music     2006  \n",
       "1  Film & Animation     2015  \n",
       "2         Education     2006  \n",
       "3             Shows     2006  \n",
       "4     Entertainment     2012  "
      ]
     },
     "execution_count": 259,
     "metadata": {},
     "output_type": "execute_result"
    }
   ],
   "source": [
    "data.head()"
   ]
  },
  {
   "cell_type": "code",
   "execution_count": 260,
   "id": "c678f792",
   "metadata": {},
   "outputs": [],
   "source": [
    "data = data.replace(',','', regex=True)"
   ]
  },
  {
   "cell_type": "code",
   "execution_count": 261,
   "id": "1cbd1088",
   "metadata": {},
   "outputs": [
    {
     "data": {
      "text/html": [
       "<div>\n",
       "<style scoped>\n",
       "    .dataframe tbody tr th:only-of-type {\n",
       "        vertical-align: middle;\n",
       "    }\n",
       "\n",
       "    .dataframe tbody tr th {\n",
       "        vertical-align: top;\n",
       "    }\n",
       "\n",
       "    .dataframe thead th {\n",
       "        text-align: right;\n",
       "    }\n",
       "</style>\n",
       "<table border=\"1\" class=\"dataframe\">\n",
       "  <thead>\n",
       "    <tr style=\"text-align: right;\">\n",
       "      <th></th>\n",
       "      <th>Rank</th>\n",
       "      <th>Youtube Channel</th>\n",
       "      <th>Subscribers</th>\n",
       "      <th>Video Views</th>\n",
       "      <th>Video Count</th>\n",
       "      <th>Category</th>\n",
       "      <th>Started</th>\n",
       "    </tr>\n",
       "  </thead>\n",
       "  <tbody>\n",
       "    <tr>\n",
       "      <th>0</th>\n",
       "      <td>1</td>\n",
       "      <td>T-Series</td>\n",
       "      <td>234000000</td>\n",
       "      <td>212900271553</td>\n",
       "      <td>18515</td>\n",
       "      <td>Music</td>\n",
       "      <td>2006</td>\n",
       "    </tr>\n",
       "    <tr>\n",
       "      <th>1</th>\n",
       "      <td>2</td>\n",
       "      <td>YouTube Movies</td>\n",
       "      <td>161000000</td>\n",
       "      <td>0</td>\n",
       "      <td>0</td>\n",
       "      <td>Film &amp; Animation</td>\n",
       "      <td>2015</td>\n",
       "    </tr>\n",
       "    <tr>\n",
       "      <th>2</th>\n",
       "      <td>3</td>\n",
       "      <td>Cocomelon - Nursery Rhymes</td>\n",
       "      <td>152000000</td>\n",
       "      <td>149084178448</td>\n",
       "      <td>846</td>\n",
       "      <td>Education</td>\n",
       "      <td>2006</td>\n",
       "    </tr>\n",
       "    <tr>\n",
       "      <th>3</th>\n",
       "      <td>4</td>\n",
       "      <td>SET India</td>\n",
       "      <td>150000000</td>\n",
       "      <td>137828094104</td>\n",
       "      <td>103200</td>\n",
       "      <td>Shows</td>\n",
       "      <td>2006</td>\n",
       "    </tr>\n",
       "    <tr>\n",
       "      <th>4</th>\n",
       "      <td>5</td>\n",
       "      <td>MrBeast</td>\n",
       "      <td>128000000</td>\n",
       "      <td>21549128785</td>\n",
       "      <td>733</td>\n",
       "      <td>Entertainment</td>\n",
       "      <td>2012</td>\n",
       "    </tr>\n",
       "  </tbody>\n",
       "</table>\n",
       "</div>"
      ],
      "text/plain": [
       "   Rank             Youtube Channel Subscribers   Video Views Video Count  \\\n",
       "0     1                    T-Series   234000000  212900271553       18515   \n",
       "1     2              YouTube Movies   161000000             0           0   \n",
       "2     3  Cocomelon - Nursery Rhymes   152000000  149084178448         846   \n",
       "3     4                   SET India   150000000  137828094104      103200   \n",
       "4     5                     MrBeast   128000000   21549128785         733   \n",
       "\n",
       "           Category  Started  \n",
       "0             Music     2006  \n",
       "1  Film & Animation     2015  \n",
       "2         Education     2006  \n",
       "3             Shows     2006  \n",
       "4     Entertainment     2012  "
      ]
     },
     "execution_count": 261,
     "metadata": {},
     "output_type": "execute_result"
    }
   ],
   "source": [
    "data.head()"
   ]
  },
  {
   "cell_type": "code",
   "execution_count": 262,
   "id": "632df978",
   "metadata": {},
   "outputs": [],
   "source": [
    "for i in range(0, len(data.columns)):\n",
    "    data.iloc[:,i] = pd.to_numeric(data.iloc[:,i], errors='ignore')"
   ]
  },
  {
   "cell_type": "code",
   "execution_count": 263,
   "id": "4752b595",
   "metadata": {},
   "outputs": [
    {
     "name": "stdout",
     "output_type": "stream",
     "text": [
      "<class 'pandas.core.frame.DataFrame'>\n",
      "RangeIndex: 1000 entries, 0 to 999\n",
      "Data columns (total 7 columns):\n",
      " #   Column           Non-Null Count  Dtype \n",
      "---  ------           --------------  ----- \n",
      " 0   Rank             1000 non-null   int64 \n",
      " 1   Youtube Channel  1000 non-null   object\n",
      " 2   Subscribers      1000 non-null   int64 \n",
      " 3   Video Views      1000 non-null   int64 \n",
      " 4   Video Count      1000 non-null   int64 \n",
      " 5   Category         1000 non-null   object\n",
      " 6   Started          1000 non-null   int64 \n",
      "dtypes: int64(5), object(2)\n",
      "memory usage: 54.8+ KB\n"
     ]
    }
   ],
   "source": [
    "data.info()"
   ]
  },
  {
   "cell_type": "code",
   "execution_count": 264,
   "id": "2067fdee",
   "metadata": {},
   "outputs": [
    {
     "data": {
      "text/html": [
       "<div>\n",
       "<style scoped>\n",
       "    .dataframe tbody tr th:only-of-type {\n",
       "        vertical-align: middle;\n",
       "    }\n",
       "\n",
       "    .dataframe tbody tr th {\n",
       "        vertical-align: top;\n",
       "    }\n",
       "\n",
       "    .dataframe thead th {\n",
       "        text-align: right;\n",
       "    }\n",
       "</style>\n",
       "<table border=\"1\" class=\"dataframe\">\n",
       "  <thead>\n",
       "    <tr style=\"text-align: right;\">\n",
       "      <th></th>\n",
       "      <th>Rank</th>\n",
       "      <th>Subscribers</th>\n",
       "      <th>Video Views</th>\n",
       "      <th>Video Count</th>\n",
       "      <th>Started</th>\n",
       "    </tr>\n",
       "  </thead>\n",
       "  <tbody>\n",
       "    <tr>\n",
       "      <th>count</th>\n",
       "      <td>1,000.00</td>\n",
       "      <td>1,000.00</td>\n",
       "      <td>1,000.00</td>\n",
       "      <td>1,000.00</td>\n",
       "      <td>1,000.00</td>\n",
       "    </tr>\n",
       "    <tr>\n",
       "      <th>mean</th>\n",
       "      <td>500.50</td>\n",
       "      <td>21,581,400.00</td>\n",
       "      <td>9,994,912,409.73</td>\n",
       "      <td>9,416.23</td>\n",
       "      <td>2,012.59</td>\n",
       "    </tr>\n",
       "    <tr>\n",
       "      <th>std</th>\n",
       "      <td>288.82</td>\n",
       "      <td>16,625,563.55</td>\n",
       "      <td>13,005,457,456.50</td>\n",
       "      <td>32,190.91</td>\n",
       "      <td>4.11</td>\n",
       "    </tr>\n",
       "    <tr>\n",
       "      <th>min</th>\n",
       "      <td>1.00</td>\n",
       "      <td>11,400,000.00</td>\n",
       "      <td>0.00</td>\n",
       "      <td>0.00</td>\n",
       "      <td>1,970.00</td>\n",
       "    </tr>\n",
       "    <tr>\n",
       "      <th>25%</th>\n",
       "      <td>250.75</td>\n",
       "      <td>13,400,000.00</td>\n",
       "      <td>3,871,469,970.25</td>\n",
       "      <td>365.50</td>\n",
       "      <td>2,010.00</td>\n",
       "    </tr>\n",
       "    <tr>\n",
       "      <th>50%</th>\n",
       "      <td>500.50</td>\n",
       "      <td>16,600,000.00</td>\n",
       "      <td>6,723,360,159.00</td>\n",
       "      <td>896.00</td>\n",
       "      <td>2,013.00</td>\n",
       "    </tr>\n",
       "    <tr>\n",
       "      <th>75%</th>\n",
       "      <td>750.25</td>\n",
       "      <td>23,200,000.00</td>\n",
       "      <td>12,230,520,916.75</td>\n",
       "      <td>3,277.25</td>\n",
       "      <td>2,015.00</td>\n",
       "    </tr>\n",
       "    <tr>\n",
       "      <th>max</th>\n",
       "      <td>1,000.00</td>\n",
       "      <td>234,000,000.00</td>\n",
       "      <td>212,900,271,553.00</td>\n",
       "      <td>342,802.00</td>\n",
       "      <td>2,021.00</td>\n",
       "    </tr>\n",
       "  </tbody>\n",
       "</table>\n",
       "</div>"
      ],
      "text/plain": [
       "           Rank     Subscribers         Video Views Video Count   Started\n",
       "count  1,000.00        1,000.00            1,000.00    1,000.00  1,000.00\n",
       "mean     500.50   21,581,400.00    9,994,912,409.73    9,416.23  2,012.59\n",
       "std      288.82   16,625,563.55   13,005,457,456.50   32,190.91      4.11\n",
       "min        1.00   11,400,000.00                0.00        0.00  1,970.00\n",
       "25%      250.75   13,400,000.00    3,871,469,970.25      365.50  2,010.00\n",
       "50%      500.50   16,600,000.00    6,723,360,159.00      896.00  2,013.00\n",
       "75%      750.25   23,200,000.00   12,230,520,916.75    3,277.25  2,015.00\n",
       "max    1,000.00  234,000,000.00  212,900,271,553.00  342,802.00  2,021.00"
      ]
     },
     "execution_count": 264,
     "metadata": {},
     "output_type": "execute_result"
    }
   ],
   "source": [
    "data.describe().applymap('{:,.2f}'.format)"
   ]
  },
  {
   "cell_type": "markdown",
   "id": "830c9f13",
   "metadata": {},
   "source": [
    "Найду среднее значение Subscribers"
   ]
  },
  {
   "cell_type": "code",
   "execution_count": 265,
   "id": "335f1ca7",
   "metadata": {},
   "outputs": [
    {
     "data": {
      "text/plain": [
       "21581400.0"
      ]
     },
     "execution_count": 265,
     "metadata": {},
     "output_type": "execute_result"
    }
   ],
   "source": [
    "mean_Subscribers = data['Subscribers'].sum() / data['Subscribers'].count()\n",
    "mean_Subscribers\n",
    "# по формуле"
   ]
  },
  {
   "cell_type": "code",
   "execution_count": 266,
   "id": "d67fbec1",
   "metadata": {},
   "outputs": [
    {
     "data": {
      "text/plain": [
       "21581400.0"
      ]
     },
     "execution_count": 266,
     "metadata": {},
     "output_type": "execute_result"
    }
   ],
   "source": [
    "data['Subscribers'].mean()"
   ]
  },
  {
   "cell_type": "code",
   "execution_count": 267,
   "id": "3a985b89",
   "metadata": {},
   "outputs": [
    {
     "data": {
      "text/plain": [
       "16617248.69044211"
      ]
     },
     "execution_count": 267,
     "metadata": {},
     "output_type": "execute_result"
    }
   ],
   "source": [
    "Subscribers_std = np.sqrt(((data['Subscribers'] - data['Subscribers'].mean())**2).sum() / data['Subscribers'].count())\n",
    "Subscribers_std\n",
    "# среднее квадратичное отклонение"
   ]
  },
  {
   "cell_type": "code",
   "execution_count": 268,
   "id": "3247c617",
   "metadata": {},
   "outputs": [
    {
     "data": {
      "text/plain": [
       "276132954040000.0"
      ]
     },
     "execution_count": 268,
     "metadata": {},
     "output_type": "execute_result"
    }
   ],
   "source": [
    "Subscribers_variance = ((data['Subscribers'] - data['Subscribers'].mean())**2).sum() / data['Subscribers'].count()\n",
    "Subscribers_variance\n",
    "#дисперсия"
   ]
  },
  {
   "cell_type": "code",
   "execution_count": 269,
   "id": "69d2a30c",
   "metadata": {},
   "outputs": [
    {
     "data": {
      "text/plain": [
       "276409363403403.4"
      ]
     },
     "execution_count": 269,
     "metadata": {},
     "output_type": "execute_result"
    }
   ],
   "source": [
    "Subscribers_variance2 = ((data['Subscribers'] - data['Subscribers'].mean())**2).sum() / (data['Subscribers'].count() - 1)\n",
    "Subscribers_variance2\n",
    "# несмещенная дисперсия"
   ]
  },
  {
   "cell_type": "code",
   "execution_count": 270,
   "id": "da63aaa1",
   "metadata": {},
   "outputs": [
    {
     "data": {
      "text/plain": [
       "276132954040000.0"
      ]
     },
     "execution_count": 270,
     "metadata": {},
     "output_type": "execute_result"
    }
   ],
   "source": [
    "data['Subscribers'].var(ddof=0)\n",
    "# С помощью метода var считаю смещенную оценку дисперсии"
   ]
  },
  {
   "cell_type": "code",
   "execution_count": 271,
   "id": "86a2ac8d",
   "metadata": {},
   "outputs": [
    {
     "data": {
      "text/plain": [
       "276409363403403.4"
      ]
     },
     "execution_count": 271,
     "metadata": {},
     "output_type": "execute_result"
    }
   ],
   "source": [
    "data['Subscribers'].var(ddof=1)\n",
    "# Несмещенная"
   ]
  },
  {
   "cell_type": "code",
   "execution_count": 272,
   "id": "9dbcd937",
   "metadata": {},
   "outputs": [
    {
     "data": {
      "image/png": "[encoded data removed]",
      "text/plain": [
       "<Figure size 640x480 with 1 Axes>"
      ]
     },
     "metadata": {},
     "output_type": "display_data"
    }
   ],
   "source": [
    "plt.hist(data['Subscribers'], bins = 20)\n",
    "plt.show()\n",
    "#Строю гистограмму указав в качестве аргумента bins число 20, чтобы получить более детальную картину"
   ]
  },
  {
   "cell_type": "code",
   "execution_count": 273,
   "id": "02338b4e",
   "metadata": {},
   "outputs": [
    {
     "data": {
      "text/html": [
       "<div>\n",
       "<style scoped>\n",
       "    .dataframe tbody tr th:only-of-type {\n",
       "        vertical-align: middle;\n",
       "    }\n",
       "\n",
       "    .dataframe tbody tr th {\n",
       "        vertical-align: top;\n",
       "    }\n",
       "\n",
       "    .dataframe thead th {\n",
       "        text-align: right;\n",
       "    }\n",
       "</style>\n",
       "<table border=\"1\" class=\"dataframe\">\n",
       "  <thead>\n",
       "    <tr style=\"text-align: right;\">\n",
       "      <th></th>\n",
       "      <th>Video Count</th>\n",
       "      <th>Video Views</th>\n",
       "    </tr>\n",
       "  </thead>\n",
       "  <tbody>\n",
       "    <tr>\n",
       "      <th>Video Count</th>\n",
       "      <td>1.000000</td>\n",
       "      <td>0.151196</td>\n",
       "    </tr>\n",
       "    <tr>\n",
       "      <th>Video Views</th>\n",
       "      <td>0.151196</td>\n",
       "      <td>1.000000</td>\n",
       "    </tr>\n",
       "  </tbody>\n",
       "</table>\n",
       "</div>"
      ],
      "text/plain": [
       "             Video Count  Video Views\n",
       "Video Count     1.000000     0.151196\n",
       "Video Views     0.151196     1.000000"
      ]
     },
     "execution_count": 273,
     "metadata": {},
     "output_type": "execute_result"
    }
   ],
   "source": [
    "corr_matrix = data.loc[:, ['Video Count', 'Video Views']].corr()\n",
    "corr_matrix\n",
    "# считаю корреляцию Video Views с Video Count \n",
    "# получил матрицу корреляций"
   ]
  },
  {
   "cell_type": "code",
   "execution_count": 274,
   "id": "2bd46765",
   "metadata": {},
   "outputs": [
    {
     "data": {
      "text/plain": [
       "0.15119615220340274"
      ]
     },
     "execution_count": 274,
     "metadata": {},
     "output_type": "execute_result"
    }
   ],
   "source": [
    "corr_matrix.loc['Video Count', 'Video Views']\n",
    "# Величина корреляции положительна, так что можно сделать вывод, что чем больше видео, тем больше просмотров"
   ]
  },
  {
   "cell_type": "markdown",
   "id": "d2e0e2f3",
   "metadata": {},
   "source": [
    "### Линейная регрессия"
   ]
  },
  {
   "cell_type": "code",
   "execution_count": 312,
   "id": "4959793d",
   "metadata": {},
   "outputs": [
    {
     "data": {
      "text/plain": [
       "<function matplotlib.pyplot.show(close=None, block=None)>"
      ]
     },
     "execution_count": 312,
     "metadata": {},
     "output_type": "execute_result"
    },
    {
     "data": {
      "image/png": "[encoded data removed]",
      "text/plain": [
       "<Figure size 640x480 with 1 Axes>"
      ]
     },
     "metadata": {},
     "output_type": "display_data"
    }
   ],
   "source": [
    "plt.scatter(data['Subscribers'], data['Video Views'])\n",
    "plt.xlabel('Подпищики')\n",
    "plt.ylabel('Просмотры видео')\n",
    "plt.show"
   ]
  },
  {
   "cell_type": "code",
   "execution_count": 300,
   "id": "1b5bea9a",
   "metadata": {},
   "outputs": [],
   "source": [
    "model = LinearRegression()"
   ]
  },
  {
   "cell_type": "code",
   "execution_count": 297,
   "id": "6dc0fd00",
   "metadata": {},
   "outputs": [],
   "source": [
    "x = pd.DataFrame(data.Subscribers)"
   ]
  },
  {
   "cell_type": "code",
   "execution_count": 298,
   "id": "2372b6c6",
   "metadata": {},
   "outputs": [],
   "source": [
    "y = pd.DataFrame(data['Video Views'])"
   ]
  },
  {
   "cell_type": "code",
   "execution_count": 301,
   "id": "30785aff",
   "metadata": {},
   "outputs": [
    {
     "data": {
      "text/html": [
       "<style>#sk-container-id-1 {color: black;background-color: white;}#sk-container-id-1 pre{padding: 0;}#sk-container-id-1 div.sk-toggleable {background-color: white;}#sk-container-id-1 label.sk-toggleable__label {cursor: pointer;display: block;width: 100%;margin-bottom: 0;padding: 0.3em;box-sizing: border-box;text-align: center;}#sk-container-id-1 label.sk-toggleable__label-arrow:before {content: \"▸\";float: left;margin-right: 0.25em;color: #696969;}#sk-container-id-1 label.sk-toggleable__label-arrow:hover:before {color: black;}#sk-container-id-1 div.sk-estimator:hover label.sk-toggleable__label-arrow:before {color: black;}#sk-container-id-1 div.sk-toggleable__content {max-height: 0;max-width: 0;overflow: hidden;text-align: left;background-color: #f0f8ff;}#sk-container-id-1 div.sk-toggleable__content pre {margin: 0.2em;color: black;border-radius: 0.25em;background-color: #f0f8ff;}#sk-container-id-1 input.sk-toggleable__control:checked~div.sk-toggleable__content {max-height: 200px;max-width: 100%;overflow: auto;}#sk-container-id-1 input.sk-toggleable__control:checked~label.sk-toggleable__label-arrow:before {content: \"▾\";}#sk-container-id-1 div.sk-estimator input.sk-toggleable__control:checked~label.sk-toggleable__label {background-color: #d4ebff;}#sk-container-id-1 div.sk-label input.sk-toggleable__control:checked~label.sk-toggleable__label {background-color: #d4ebff;}#sk-container-id-1 input.sk-hidden--visually {border: 0;clip: rect(1px 1px 1px 1px);clip: rect(1px, 1px, 1px, 1px);height: 1px;margin: -1px;overflow: hidden;padding: 0;position: absolute;width: 1px;}#sk-container-id-1 div.sk-estimator {font-family: monospace;background-color: #f0f8ff;border: 1px dotted black;border-radius: 0.25em;box-sizing: border-box;margin-bottom: 0.5em;}#sk-container-id-1 div.sk-estimator:hover {background-color: #d4ebff;}#sk-container-id-1 div.sk-parallel-item::after {content: \"\";width: 100%;border-bottom: 1px solid gray;flex-grow: 1;}#sk-container-id-1 div.sk-label:hover label.sk-toggleable__label {background-color: #d4ebff;}#sk-container-id-1 div.sk-serial::before {content: \"\";position: absolute;border-left: 1px solid gray;box-sizing: border-box;top: 0;bottom: 0;left: 50%;z-index: 0;}#sk-container-id-1 div.sk-serial {display: flex;flex-direction: column;align-items: center;background-color: white;padding-right: 0.2em;padding-left: 0.2em;position: relative;}#sk-container-id-1 div.sk-item {position: relative;z-index: 1;}#sk-container-id-1 div.sk-parallel {display: flex;align-items: stretch;justify-content: center;background-color: white;position: relative;}#sk-container-id-1 div.sk-item::before, #sk-container-id-1 div.sk-parallel-item::before {content: \"\";position: absolute;border-left: 1px solid gray;box-sizing: border-box;top: 0;bottom: 0;left: 50%;z-index: -1;}#sk-container-id-1 div.sk-parallel-item {display: flex;flex-direction: column;z-index: 1;position: relative;background-color: white;}#sk-container-id-1 div.sk-parallel-item:first-child::after {align-self: flex-end;width: 50%;}#sk-container-id-1 div.sk-parallel-item:last-child::after {align-self: flex-start;width: 50%;}#sk-container-id-1 div.sk-parallel-item:only-child::after {width: 0;}#sk-container-id-1 div.sk-dashed-wrapped {border: 1px dashed gray;margin: 0 0.4em 0.5em 0.4em;box-sizing: border-box;padding-bottom: 0.4em;background-color: white;}#sk-container-id-1 div.sk-label label {font-family: monospace;font-weight: bold;display: inline-block;line-height: 1.2em;}#sk-container-id-1 div.sk-label-container {text-align: center;}#sk-container-id-1 div.sk-container {/* jupyter's `normalize.less` sets `[hidden] { display: none; }` but bootstrap.min.css set `[hidden] { display: none !important; }` so we also need the `!important` here to be able to override the default hidden behavior on the sphinx rendered scikit-learn.org. See: https://github.com/scikit-learn/scikit-learn/issues/21755 */display: inline-block !important;position: relative;}#sk-container-id-1 div.sk-text-repr-fallback {display: none;}</style><div id=\"sk-container-id-1\" class=\"sk-top-container\"><div class=\"sk-text-repr-fallback\"><pre>LinearRegression()</pre><b>In a Jupyter environment, please rerun this cell to show the HTML representation or trust the notebook. <br />On GitHub, the HTML representation is unable to render, please try loading this page with nbviewer.org.</b></div><div class=\"sk-container\" hidden><div class=\"sk-item\"><div class=\"sk-estimator sk-toggleable\"><input class=\"sk-toggleable__control sk-hidden--visually\" id=\"sk-estimator-id-1\" type=\"checkbox\" checked><label for=\"sk-estimator-id-1\" class=\"sk-toggleable__label sk-toggleable__label-arrow\">LinearRegression</label><div class=\"sk-toggleable__content\"><pre>LinearRegression()</pre></div></div></div></div></div>"
      ],
      "text/plain": [
       "LinearRegression()"
      ]
     },
     "execution_count": 301,
     "metadata": {},
     "output_type": "execute_result"
    }
   ],
   "source": [
    "model.fit(x, y)"
   ]
  },
  {
   "cell_type": "code",
   "execution_count": 302,
   "id": "9d7961fc",
   "metadata": {},
   "outputs": [
    {
     "data": {
      "text/plain": [
       "array([[589.54600982]])"
      ]
     },
     "execution_count": 302,
     "metadata": {},
     "output_type": "execute_result"
    }
   ],
   "source": [
    "model.coef_"
   ]
  },
  {
   "cell_type": "code",
   "execution_count": 311,
   "id": "82c996b9",
   "metadata": {},
   "outputs": [
    {
     "data": {
      "text/plain": [
       "<function matplotlib.pyplot.show(close=None, block=None)>"
      ]
     },
     "execution_count": 311,
     "metadata": {},
     "output_type": "execute_result"
    },
    {
     "data": {
      "image/png": "[encoded data removed]",
      "text/plain": [
       "<Figure size 640x480 with 1 Axes>"
      ]
     },
     "metadata": {},
     "output_type": "display_data"
    }
   ],
   "source": [
    "plt.scatter(data['Subscribers'], data['Video Views'])\n",
    "plt.plot(x, model.predict(x), color = 'black')\n",
    "plt.xlabel('Подпищики')\n",
    "plt.ylabel('Просмотры видео')\n",
    "plt.show"
   ]
  },
  {
   "cell_type": "code",
   "execution_count": 314,
   "id": "643b8151",
   "metadata": {},
   "outputs": [
    {
     "data": {
      "text/plain": [
       "0.5679850357321219"
      ]
     },
     "execution_count": 314,
     "metadata": {},
     "output_type": "execute_result"
    }
   ],
   "source": [
    "model.score(x, y)"
   ]
  },
  {
   "cell_type": "markdown",
   "id": "318ea92f",
   "metadata": {},
   "source": [
    "Заключение.\n",
    "Полохо, что нет четких тем курсовых работи что надо именно сдеать.\n"
   ]
  }
 ],
 "metadata": {
  "kernelspec": {
   "display_name": "Python 3 (ipykernel)",
   "language": "python",
   "name": "python3"
  },
  "language_info": {
   "codemirror_mode": {
    "name": "ipython",
    "version": 3
   },
   "file_extension": ".py",
   "mimetype": "text/x-python",
   "name": "python",
   "nbconvert_exporter": "python",
   "pygments_lexer": "ipython3",
   "version": "3.10.8"
  }
 },
 "nbformat": 4,
 "nbformat_minor": 5
}
